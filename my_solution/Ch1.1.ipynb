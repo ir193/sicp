{
 "cells": [
  {
   "cell_type": "markdown",
   "metadata": {},
   "source": [
    "Exercise 1.1 : Below is a sequence of expressions. What is the result printed by the interpreter in response to each expression? Assume that the sequence is to be evaluated in the order in which it is presented.\n",
    "\n",
    "    10\n",
    "    (+ 5 3 4)\n",
    "    (- 9 1)\n",
    "    (/ 6 2)\n",
    "    (+ (* 2 4) (- 4 6))\n",
    "    (define a 3)\n",
    "    (define b (+ a 1))\n",
    "    (+ a b (* a b))\n",
    "    (= a b)\n",
    "    (if (and (> b a) (< b (* a b)))\n",
    "    b\n",
    "    a)\n",
    "    (cond ((= a 4) 6)\n",
    "    ((= b 4) (+ 6 7 a))\n",
    "    (else 25))\n",
    "    (+ 2 (if (> b a) b a))\n",
    "    (* (cond ((> a b) a)\n",
    "    ((< a b) b)\n",
    "    (else -1))\n",
    "    (+ a 1))"
   ]
  },
  {
   "cell_type": "code",
   "execution_count": 1,
   "metadata": {},
   "outputs": [
    {
     "data": {
      "text/plain": [
       "10"
      ]
     },
     "execution_count": 1,
     "metadata": {},
     "output_type": "execute_result"
    }
   ],
   "source": [
    "10"
   ]
  },
  {
   "cell_type": "code",
   "execution_count": 2,
   "metadata": {},
   "outputs": [
    {
     "data": {
      "text/plain": [
       "12"
      ]
     },
     "execution_count": 2,
     "metadata": {},
     "output_type": "execute_result"
    }
   ],
   "source": [
    "(+ 5 3 4)"
   ]
  },
  {
   "cell_type": "markdown",
   "metadata": {},
   "source": [
    "Exercise 1.2: Translate the following expression into prefix form: \n",
    "\n",
    "\\begin{equation}\n",
    "\\frac {5 + 4 + ( 2 - (3 - (6 + \\frac {4}{5})))} {3(6 - 2)(2-7)}\n",
    "\\end{equation}"
   ]
  },
  {
   "cell_type": "code",
   "execution_count": 3,
   "metadata": {},
   "outputs": [
    {
     "data": {
      "text/plain": [
       "-37/150"
      ]
     },
     "execution_count": 3,
     "metadata": {},
     "output_type": "execute_result"
    }
   ],
   "source": [
    "(/ (+ 5\n",
    "      4\n",
    "      (- 2 (- 3\n",
    "              (+ 6\n",
    "                 (/ 4\n",
    "                    5)))))\n",
    "   (* 3\n",
    "      (- 6 2)\n",
    "      (- 2 7)))"
   ]
  },
  {
   "cell_type": "markdown",
   "metadata": {},
   "source": [
    "Exercise 1.3: Define a procedure that takes three numbers as arguments and returns the sum of the squares of the two larger numbers."
   ]
  },
  {
   "cell_type": "code",
   "execution_count": 4,
   "metadata": {},
   "outputs": [
    {
     "data": {
      "text/plain": [
       "ans"
      ]
     },
     "execution_count": 4,
     "metadata": {},
     "output_type": "execute_result"
    }
   ],
   "source": [
    "(define (ans a b c)\n",
    "  (define (sum-of-squares x y)\n",
    "    (+ (* x x) (* y y)))\n",
    "  \n",
    "  (if (> a b)\n",
    "      (if (> b c)\n",
    "          (sum-of-squares a b)\n",
    "          (sum-of-squares a c))\n",
    "      (if (> a c)\n",
    "          (sum-of-squares b a)\n",
    "          (sum-of-squares b c))))"
   ]
  },
  {
   "cell_type": "markdown",
   "metadata": {},
   "source": [
    "Exercise 1.4: Observe that our model of evaluation allows\n",
    "for combinations whose operators are compound expressions. Use this observation to describe the behavior of the\n",
    "following procedure:\n",
    "\n",
    "    (define (a-plus-abs-b a b)\n",
    "      ((if (> b 0) + -) a b))"
   ]
  },
  {
   "cell_type": "code",
   "execution_count": 7,
   "metadata": {},
   "outputs": [
    {
     "data": {
      "text/plain": [
       "#t"
      ]
     },
     "execution_count": 7,
     "metadata": {},
     "output_type": "execute_result"
    }
   ],
   "source": [
    "(define (a-plus-abs-b a b)\n",
    "  ((if (> b 0) + -) a b))\n",
    "(define (a-plus-abs-b2 a b)\n",
    "  (+ a (abs b)))\n",
    "(= (a-plus-abs-b 1 -2) (a-plus-abs-b2 1 -2))"
   ]
  },
  {
   "cell_type": "markdown",
   "metadata": {},
   "source": [
    "Exercise 1.5: Ben Bitdiddle has invented a test to determine\n",
    "whether the interpreter he is faced with is using applicative-\n",
    "order evaluation or normal-order evaluation. He defines the\n",
    "following two procedures:\n",
    "\n",
    "    (define (p) (p))\n",
    "    (define (test x y)\n",
    "        (if (= x 0) 0 y))\n",
    "\n",
    "\n",
    "Then he evaluates the expression\n",
    "\n",
    "    (test 0 (p))\n",
    "\n",
    "What behavior will Ben observe with an interpreter that uses applicative-order evaluation? What behavior will he observe with an interpreter that uses normal-order evaluation? Explain your answer. (Assume that the evaluation rule for the special form if is the same whether the interpreter is using normal or applicative order: The predicate expression is evaluated first, and the result determines whether to evaluate the consequent or the alternative expression.) "
   ]
  },
  {
   "cell_type": "code",
   "execution_count": 35,
   "metadata": {},
   "outputs": [
    {
     "data": {
      "text/plain": [
       "#!unspecific"
      ]
     },
     "execution_count": 35,
     "metadata": {},
     "output_type": "execute_result"
    }
   ],
   "source": [
    "; TODO execution timeout\n",
    "; TODO get scheme kernel executing in normal order"
   ]
  },
  {
   "cell_type": "markdown",
   "metadata": {},
   "source": [
    "Example: Square Roots by Newton’s Method"
   ]
  },
  {
   "cell_type": "code",
   "execution_count": null,
   "metadata": {},
   "outputs": [],
   "source": [
    "(define (sqrt-iter guess x)\n",
    "  (if (good-enough? guess x)\n",
    "      guess\n",
    "      (sqrt-iter (improve guess x) x)))\n",
    "\n",
    "(define (improve guess x)\n",
    "  (average guess (/ x guess)))\n",
    "\n",
    "(define (average x y) \n",
    "  (/ (+ x y) 2))\n",
    "\n",
    "(define (good-enough? guess x)\n",
    "  (< (abs (- (square guess) x)) 0.001))\n",
    "\n",
    "(define (sqrt x)\n",
    "  (sqrt-iter 1.0 x))\n",
    "\n",
    "(sqrt 2)"
   ]
  },
  {
   "cell_type": "markdown",
   "metadata": {},
   "source": [
    "Exercise 1.6: Alyssa P. Hacker doesn’t see why if needs to be provided as a special form. “Why can’t I just define it as an ordinary procedure in terms of cond?” she asks. Alyssa’s friend Eva Lu Ator claims this can indeed be done, and she defines a new version of `if`:\n",
    "\n",
    "    (define (new-if predicate \n",
    "                    then-clause \n",
    "                    else-clause)\n",
    "      (cond (predicate then-clause)\n",
    "            (else else-clause)))\n",
    "\n",
    "Eva demonstrates the program for Alyssa:\n",
    "\n",
    "    (new-if (= 2 3) 0 5)\n",
    "    5\n",
    "\n",
    "    (new-if (= 1 1) 0 5)\n",
    "    0\n",
    "\n",
    "Delighted, Alyssa uses `new-if` to rewrite the `square-root` program:\n",
    "\n",
    "    (define (sqrt-iter guess x)\n",
    "      (new-if (good-enough? guess x)\n",
    "              guess\n",
    "              (sqrt-iter (improve guess x) x)))\n",
    "\n",
    "What happens when Alyssa attempts to use this to compute square roots? Explain. "
   ]
  },
  {
   "cell_type": "code",
   "execution_count": null,
   "metadata": {
    "collapsed": true
   },
   "outputs": [],
   "source": []
  },
  {
   "cell_type": "markdown",
   "metadata": {},
   "source": [
    "Exercise 1.7: \n",
    "The `good-enough?` test used in computing square roots will not be very effective for finding the square roots of very small numbers. Also, in real computers, arithmetic operations are almost always performed with limited precision. This makes our test inadequate for very large numbers. Explain these statements, with examples showing how the test fails for small and large numbers. An alternative strategy for implementing `good-enough?` is to watch how guess changes from one iteration to the next and to stop when the change is a very small fraction of the guess. Design a square-root procedure that uses this kind of end test. Does this work better for small and large numbers? "
   ]
  },
  {
   "cell_type": "code",
   "execution_count": null,
   "metadata": {},
   "outputs": [],
   "source": [
    "(define (sqrt-iter guess last x)\n",
    "  (if (good-enough? guess last)\n",
    "      guess\n",
    "      (sqrt-iter (improve guess x) guess x)))\n",
    "\n",
    "(define (improve guess x)\n",
    "  (average guess (/ x guess)))\n",
    "\n",
    "(define (average x y) \n",
    "  (/ (+ x y) 2))\n",
    "\n",
    "(define (good-enough? guess last)\n",
    "  (= guess last))\n",
    "\n",
    "(define (sqrt x)\n",
    "  (sqrt-iter 1.0 0.0 x))\n",
    "  \n",
    "(sqrt 1e-308)"
   ]
  },
  {
   "cell_type": "markdown",
   "metadata": {},
   "source": [
    "Exercise 1.8: Newton’s method for cube roots is based on the fact that if $y$ is an approximation to the cube root of $x$, then a better approximation is given by the value\n",
    "\n",
    "\\begin{equation} \n",
    "\\frac{x / y^2 + 2 y} { 3 }\n",
    "\\end{equation}\n",
    "\n",
    "Use this formula to implement a cube-root procedure analogous to the square-root procedure. (In 1.3.4 we will see how to implement Newton’s method in general as an abstraction of these square-root and cube-root procedures.) "
   ]
  },
  {
   "cell_type": "code",
   "execution_count": 5,
   "metadata": {},
   "outputs": [
    {
     "data": {
      "text/plain": [
       "1.4422495703074085"
      ]
     },
     "execution_count": 5,
     "metadata": {},
     "output_type": "execute_result"
    }
   ],
   "source": [
    "(define (cube-root-iter guess last x)\n",
    "  (if (good-enough? guess last)\n",
    "      guess\n",
    "      (cube-root-iter (improve guess x) guess x)))\n",
    "\n",
    "(define (improve guess x)\n",
    "  (/ (+ (/ x\n",
    "           (* guess guess))\n",
    "        (* 2 guess))\n",
    "     3))\n",
    "\n",
    "(define (good-enough? guess last)\n",
    "  (= guess last))\n",
    "\n",
    "(define (cube-root x)\n",
    "  (cube-root-iter 1.0 0.0 x))\n",
    "  \n",
    "(cube-root 3)"
   ]
  },
  {
   "cell_type": "markdown",
   "metadata": {},
   "source": [
    "Example: sqrt with internal definitions\n",
    "\n",
    "    (define (sqrt x)\n",
    "      (define (good-enough? guess x)\n",
    "        (< (abs (- (square guess) x)) 0.001))\n",
    "      (define (improve guess x)\n",
    "        (average guess (/ x guess)))\n",
    "      (define (sqrt-iter guess x)\n",
    "        (if (good-enough? guess x)\n",
    "            guess\n",
    "            (sqrt-iter (improve guess x) x)))\n",
    "      (sqrt-iter 1.0 x))\n"
   ]
  }
 ],
 "metadata": {
  "kernelspec": {
   "display_name": "MIT Scheme",
   "language": "scheme",
   "name": "mit-scheme"
  },
  "language_info": {
   "codemirror_mode": "scheme",
   "file_extension": ".scm",
   "mimetype": "application/x-scheme",
   "name": "MIT Scheme",
   "pygments_lexer": "scheme",
   "version": "9.2.1"
  }
 },
 "nbformat": 4,
 "nbformat_minor": 2
}
